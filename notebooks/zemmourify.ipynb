{
 "cells": [
  {
   "cell_type": "code",
   "execution_count": 58,
   "metadata": {},
   "outputs": [],
   "source": [
    "import pandas as pd\n",
    "import textdistance\n",
    "from unidecode import unidecode"
   ]
  },
  {
   "cell_type": "code",
   "execution_count": 14,
   "metadata": {},
   "outputs": [],
   "source": [
    "df = pd.read_csv(\"Prenoms.csv\", sep=\";\", encoding=\"latin-1\")"
   ]
  },
  {
   "cell_type": "code",
   "execution_count": 59,
   "metadata": {},
   "outputs": [],
   "source": [
    "def clean(s):\n",
    "    return unidecode(s).capitalize().replace(\"-\", \"\").replace(\" \", \"\").split(\"(\")[0]"
   ]
  },
  {
   "cell_type": "code",
   "execution_count": 60,
   "metadata": {},
   "outputs": [],
   "source": [
    "prenoms = df[df['03_langage'].str.contains(\"french\", na=False)][\"01_prenom\"].apply(lambda x: clean(x)).tolist()"
   ]
  },
  {
   "cell_type": "code",
   "execution_count": 79,
   "metadata": {},
   "outputs": [],
   "source": [
    "import re\n",
    "import wikipedia"
   ]
  },
  {
   "cell_type": "code",
   "execution_count": 88,
   "metadata": {},
   "outputs": [],
   "source": [
    "wikipedia.set_lang(\"fr\")\n",
    "page = wikipedia.page(\"Liste_de_prénoms_en_français\").content\n",
    "prenoms2 = re.findall(r\"(\\(f\\)|\\(x\\)) (([A-Z]{1}\\S*){1,2})\", page, flags=re.UNICODE)"
   ]
  },
  {
   "cell_type": "code",
   "execution_count": 126,
   "metadata": {},
   "outputs": [],
   "source": [
    "prenoms2 = [clean(x[-1]) for x in prenoms2]\n",
    "prenoms_mix = [x for x in set(prenoms).union(prenoms2) if len(x) > 1]"
   ]
  },
  {
   "cell_type": "code",
   "execution_count": null,
   "metadata": {},
   "outputs": [],
   "source": [
    "import phonetics\n",
    "from abydos import phonetic\n",
    "fonem = phonetic.FONEM()\n",
    "phonex = phonetic.Phonex()"
   ]
  },
  {
   "cell_type": "code",
   "execution_count": 152,
   "metadata": {},
   "outputs": [],
   "source": [
    "weights = {\n",
    "    0.25,  # metaphone \n",
    "    0.2,  # nysiis\n",
    "    0.1,  # soundex\n",
    "    0.3,  # fonem\n",
    "    0.15,  # phonex\n",
    "}\n",
    "\n",
    "def cast(s):\n",
    "    return [\n",
    "        phonetics.metaphone(s),\n",
    "        phonetics.nysiis(s),\n",
    "        phonetics.soundex(s),\n",
    "        fonem.encode(s),\n",
    "        phonex.encode(s)\n",
    "    ]\n",
    "\n",
    "def distance(s1, s2):\n",
    "    total = 0\n",
    "    try:\n",
    "        l1, l2 = cast(s1), cast(s2)\n",
    "    except:\n",
    "        return 5\n",
    "    for i, w in enumerate(weights):\n",
    "        lev = textdistance.levenshtein(l1[i], l2[i])\n",
    "        total += lev * w\n",
    "    return total\n",
    "\n",
    "def query(table, target):\n",
    "    return sorted(table, key=lambda x: distance(x, target))[:10]"
   ]
  },
  {
   "cell_type": "code",
   "execution_count": 156,
   "metadata": {},
   "outputs": [
    {
     "data": {
      "text/plain": [
       "['Xavier',\n",
       " 'Jolie',\n",
       " 'Julie',\n",
       " 'Jeanne',\n",
       " 'Josue',\n",
       " 'Joelle',\n",
       " 'Gautier',\n",
       " 'Joel',\n",
       " 'Jean',\n",
       " 'Josee']"
      ]
     },
     "execution_count": 156,
     "metadata": {},
     "output_type": "execute_result"
    }
   ],
   "source": [
    "query(prenoms_mix, \"\")"
   ]
  }
 ],
 "metadata": {
  "kernelspec": {
   "display_name": "Python [conda env:matching]",
   "language": "python",
   "name": "conda-env-matching-py"
  },
  "language_info": {
   "codemirror_mode": {
    "name": "ipython",
    "version": 3
   },
   "file_extension": ".py",
   "mimetype": "text/x-python",
   "name": "python",
   "nbconvert_exporter": "python",
   "pygments_lexer": "ipython3",
   "version": "3.8.8"
  }
 },
 "nbformat": 4,
 "nbformat_minor": 4
}
